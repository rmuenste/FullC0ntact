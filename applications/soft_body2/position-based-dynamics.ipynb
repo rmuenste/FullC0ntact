{
 "cells": [
  {
   "cell_type": "markdown",
   "metadata": {},
   "source": [
    "### Distance Contraint"
   ]
  },
  {
   "cell_type": "markdown",
   "metadata": {},
   "source": [
    "We try to find a correction $\\Delta \\mathbf{p}$ so that the $\\textbf{Contraint Function: }$\n",
    "$$\n",
    "\\begin{align*}\n",
    "C_d \\left(\\mathbf{p} + \\Delta \\mathbf{p} \\right) &= \\mathbf{0} \\\\\n",
    "C_d \\left(\\mathbf{p} + \\Delta \\mathbf{p} \\right) &\\approx C_d (\\mathbf{p}) + \\nabla_{\\mathbf{p}}C_d(\\mathbf{p}) \\cdot \\Delta \\mathbf{p} = \\mathbf{0}\n",
    "\\end{align*}\n",
    "$$\n",
    "$$$$\n",
    "Restricting $\\Delta \\mathbf{p}$ to be in the direction of $\\nabla_{\\mathbf{p}}$ means choosing a $\\lambda$ so that\n",
    "$$\\Delta \\mathbf{p} = \\lambda \\nabla_{\\mathbf{p}}C_d(\\mathbf{p})$$"
   ]
  },
  {
   "cell_type": "code",
   "execution_count": 14,
   "metadata": {},
   "outputs": [
    {
     "data": {
      "text/html": [
       "<span><img src=\"distance_constraint1.png\" width=\"500px\"/></span>\n"
      ],
      "text/plain": [
       "<IPython.core.display.HTML object>"
      ]
     },
     "metadata": {},
     "output_type": "display_data"
    }
   ],
   "source": [
    "%%HTML\n",
    "<span><img src=\"distance_constraint1.png\" width=\"500px\"/></span>"
   ]
  },
  {
   "cell_type": "markdown",
   "metadata": {},
   "source": [
    "The correction for an individual point $i$ is given by:\n",
    "$$ \\Delta \\mathbf{p}_i = -s \\nabla_{\\mathbf{p}_i}C_d(\\mathbf{p}_1,\\dots,\\mathbf{p}_n) $$\n",
    "where the scaling factor $s$\n",
    "$$ s = \\frac{C_d(\\mathbf{p}_1,\\dots,\\mathbf{p}_n)}{\\sum |\\nabla_{\\mathbf{p}_j}C_d(\\mathbf{p}_1,\\dots,\\mathbf{p}_n)|^2}$$\n",
    "is the same for all points. In case that the points have different masses, the term is weighted by the inverse masses $w_i = \\frac{1}{m_i}$\n",
    "$$ s = \\frac{C_d(\\mathbf{p}_1,\\dots,\\mathbf{p}_n)}{\\sum {w_j} |\\nabla_{\\mathbf{p}_j}C_d(\\mathbf{p}_1,\\dots,\\mathbf{p}_n)|^2}$$\n",
    "which leads to the weighted correction:\n",
    "$$ \\Delta \\mathbf{p}_i = -s w_i \\nabla_{\\mathbf{p}_i}C_d(\\mathbf{p}_1,\\dots,\\mathbf{p}_n) $$"
   ]
  },
  {
   "cell_type": "markdown",
   "metadata": {},
   "source": [
    "### Example Distance Constraint\n",
    "For the distance constraint $C_d(\\mathbf{p}_1,\\mathbf{p}_2) = |\\mathbf{p}_1 -\\mathbf{p}_2| - d$ we have the derivatives:\n",
    "$$\n",
    "\\begin{align}\n",
    "\\nabla_{\\mathbf{p}_1} C(\\mathbf{p}_1,\\mathbf{p}_2)&= \\mathbf{n} \\\\\n",
    "\\nabla_{\\mathbf{p}_2} C(\\mathbf{p}_1,\\mathbf{p}_2)&= -\\mathbf{n}\n",
    "\\end{align}\n",
    "$$\n",
    "where \n",
    "$$\n",
    "\\mathbf{n} = \\frac{\\mathbf{p}_1 -\\mathbf{p}_2}{|\\mathbf{p}_1 -\\mathbf{p}_2|}.\n",
    "$$\n",
    "The scaling factor $s$ here is\n",
    "$$\n",
    "\\frac{|\\mathbf{p}_1 -\\mathbf{p}_2| - d}{w_1 + w_2}\n",
    "$$\n",
    "because $|\\nabla_{\\mathbf{p}_j}C_d(\\mathbf{p}_1,\\dots,\\mathbf{p}_n)|^2=|\\mathbf{n}|=1$ \n",
    "\n",
    "So the final corrections are:\n",
    "$$\n",
    "\\begin{align}\n",
    "\\Delta \\mathbf{p}_1 = -\\frac{w_1 |\\mathbf{p}_1 -\\mathbf{p}_2| - d}{w_1 + w_2} \\frac{\\mathbf{p}_1 -\\mathbf{p}_2}{|\\mathbf{p}_1 -\\mathbf{p}_2|}\\\\\n",
    "\\Delta \\mathbf{p}_2 = +\\frac{w_2 |\\mathbf{p}_1 -\\mathbf{p}_2| - d}{w_1 + w_2} \\frac{\\mathbf{p}_1 -\\mathbf{p}_2}{|\\mathbf{p}_1 -\\mathbf{p}_2|}\\\\\n",
    "\\end{align}\n",
    "$$"
   ]
  },
  {
   "cell_type": "code",
   "execution_count": 13,
   "metadata": {},
   "outputs": [
    {
     "data": {
      "text/html": [
       "<span><img src=\"bending_constraint.svg\" width=\"500px\"/></span>\n"
      ],
      "text/plain": [
       "<IPython.core.display.HTML object>"
      ]
     },
     "metadata": {},
     "output_type": "display_data"
    }
   ],
   "source": [
    "%%HTML\n",
    "<span><img src=\"bending_constraint.svg\" width=\"500px\"/></span>"
   ]
  },
  {
   "cell_type": "markdown",
   "metadata": {},
   "source": [
    "### Bending Contraint\n",
    "\n",
    "\n"
   ]
  },
  {
   "cell_type": "code",
   "execution_count": 1,
   "metadata": {},
   "outputs": [
    {
     "data": {
      "text/latex": [
       "$$\\mathbf{n}_1 = \\left(\\mathbf{p}_2-\\mathbf{p}_1\\right) \\times \\left(\\mathbf{p}_3-\\mathbf{p}_1\\right)$$\n",
       "$$\\mathbf{n}_2 = \\left(\\mathbf{p}_2-\\mathbf{p}_1\\right) \\times \\left(\\mathbf{p}_4-\\mathbf{p}_1\\right)$$\n",
       "$$ $$\n",
       "$$\\textbf{Contraint Function}$$\n",
       "$$C_b = \\left(\\mathbf{p}_1,\\mathbf{p}_2,\\mathbf{p}_3, \\mathbf{p}_4\\right) = \\arccos \\left( \\frac{\\mathbf{n}_1}{|\\mathbf{n}_1|} \\cdot \\frac{\\mathbf{n}_2}{|\\mathbf{n}_2|} \\right) - \\theta_0$$\n"
      ],
      "text/plain": [
       "<IPython.core.display.Latex object>"
      ]
     },
     "metadata": {},
     "output_type": "display_data"
    }
   ],
   "source": [
    "%%latex\n",
    "$$\\mathbf{n}_1 = \\left(\\mathbf{p}_2-\\mathbf{p}_1\\right) \\times \\left(\\mathbf{p}_3-\\mathbf{p}_1\\right)$$\n",
    "$$\\mathbf{n}_2 = \\left(\\mathbf{p}_2-\\mathbf{p}_1\\right) \\times \\left(\\mathbf{p}_4-\\mathbf{p}_1\\right)$$\n",
    "$$ $$\n",
    "$$\\textbf{Contraint Function}$$\n",
    "$$C_b = \\left(\\mathbf{p}_1,\\mathbf{p}_2,\\mathbf{p}_3, \\mathbf{p}_4\\right) = \\arccos \\left( \\frac{\\mathbf{n}_1}{|\\mathbf{n}_1|} \\cdot \\frac{\\mathbf{n}_2}{|\\mathbf{n}_2|} \\right) - \\theta_0$$"
   ]
  },
  {
   "cell_type": "markdown",
   "metadata": {},
   "source": [
    "### The Dihedral Angle and the Bending Constraint\n",
    "The dihedral angle $\\theta$ is the angle between to adjacent triangles. The angle $\\theta_0$ is the angle in the 'resting' position of a deformable mesh. So the bending constraint $c_b$ measures the difference between the resting angle $\\theta_0$ and\n",
    "the current dihedral angle $\\theta$."
   ]
  },
  {
   "cell_type": "code",
   "execution_count": 41,
   "metadata": {},
   "outputs": [
    {
     "data": {
      "text/html": [
       "<p><img src=\"bending_constraint2.svg\" width=\"500px\"/></p>\n"
      ],
      "text/plain": [
       "<IPython.core.display.HTML object>"
      ]
     },
     "metadata": {},
     "output_type": "display_data"
    }
   ],
   "source": [
    "%%HTML\n",
    "<p><img src=\"bending_constraint2.svg\" width=\"500px\"/></p>"
   ]
  },
  {
   "cell_type": "markdown",
   "metadata": {},
   "source": []
  },
  {
   "cell_type": "markdown",
   "metadata": {},
   "source": [
    "### Gradient of the Normalized Cross Product\n",
    "$$\n",
    "\\mathbf{n} = \\frac{\\mathbf{p}_1 -\\mathbf{p}_2}{|\\mathbf{p}_1 -\\mathbf{p}_2|}\n",
    "$$\n",
    "The derivative with respect to $\\mathbf{p}_1$ is\n",
    "$$\n",
    "\\begin{align*}\n",
    "\\frac{\\partial \\mathbf{n}}{\\partial \\mathbf{p}_1} &= \\left [  \n",
    "\\begin{array}{ccc}\n",
    "\\frac{\\partial n_x}{\\partial p_{1_x}} & \\frac{\\partial n_x}{\\partial p_{1_y}} & \\frac{\\partial n_x}{\\partial p_{1_z}} \\\\\n",
    "\\frac{\\partial n_y}{\\partial p_{1_x}} & \\frac{\\partial n_y}{\\partial p_{1_y}} & \\frac{\\partial n_y}{\\partial p_{1_z}} \\\\\n",
    "\\frac{\\partial n_z}{\\partial p_{1_x}} & \\frac{\\partial n_z}{\\partial p_{1_y}} & \\frac{\\partial n_z}{\\partial p_{1_z}} \n",
    "\\end{array}\n",
    "\\right ] \\\\\n",
    "&= \\frac{1}{|\\mathbf{p}_1 \\times \\mathbf{p}_2|} \\left (  \\left [ \n",
    "\\begin{array}{ccc}\n",
    "0 & p_{2_z} & -p_{2_y} \\\\\n",
    "-p_{2_z} & 0 & p_{2_x} \\\\\n",
    "p_{2_y} & -p_{2_x} & 0 \n",
    "\\end{array}\n",
    "\\right ] + \\mathbf{n} \\left ( \\mathbf{n} \\times \\mathbf{p}_2 \\right )^T \\right ) \\\\\n",
    "&= \\frac{1}{|\\mathbf{p}_1 \\times \\mathbf{p}_2|} \\left (   \n",
    "- \\tilde{\\mathbf{p}_2} + \\mathbf{n} \\left ( \\mathbf{n} \\times \\mathbf{p}_2 \\right )^T \\right )\n",
    "\\end{align*}\n",
    "$$\n"
   ]
  },
  {
   "cell_type": "markdown",
   "metadata": {},
   "source": [
    "Without loss of generality we set $\\mathbf{p}_1 = \\mathbf{0}$ and get the normals\n",
    "$$\n",
    "\\mathbf{n}_1 = \\frac{\\mathbf{p}_2 -\\mathbf{p}_3}{|\\mathbf{p}_2 -\\mathbf{p}_3|} \\; \\mathbf{n}_2 = \\frac{\\mathbf{p}_2 -\\mathbf{p}_4}{|\\mathbf{p}_2 -\\mathbf{p}_4|}\n",
    "$$\n",
    "With $\\frac{d}{dx} \\arccos (x) = - \\frac{1}{\\sqrt{1-x^2}}$ we get the following gradients:\n",
    "$$\n",
    "\\begin{align*}\n",
    "\\nabla_{\\mathbf{p}_3}C &= - \\frac{1}{\\sqrt{1-d^2}} \\left ( \\left ( \\frac{\\partial \\mathbf{n}_1}{\\partial \\mathbf{p}_3} \\right )^T \\mathbf{n}_2 \\right ) \\\\\n",
    "\\nabla_{\\mathbf{p}_4}C &= - \\frac{1}{\\sqrt{1-d^2}} \\left ( \\left ( \\frac{\\partial \\mathbf{n}_2}{\\partial \\mathbf{p}_4} \\right )^T \\mathbf{n}_1 \\right ) \\\\\n",
    "\\nabla_{\\mathbf{p}_2}C &= - \\frac{1}{\\sqrt{1-d^2}} \\left ( \\left ( \\frac{\\partial \\mathbf{n}_1}{\\partial \\mathbf{p}_2} \\right )^T \\mathbf{n}_2 + \\left ( \\frac{\\partial \\mathbf{n}_2}{\\partial \\mathbf{p}_2} \\right )^T \\mathbf{n}_2 \\right ) \\\\\n",
    "\\nabla_{\\mathbf{p}_1}C &= -\\nabla_{\\mathbf{p}_2}C -\\nabla_{\\mathbf{p}_3}C - \\nabla_{\\mathbf{p}_4}C\n",
    "\\end{align*}\n",
    "$$"
   ]
  },
  {
   "cell_type": "markdown",
   "metadata": {},
   "source": [
    "Now compute the gradients as:\n",
    "$$\n",
    "\\begin{align*}\n",
    "\\mathbf{q}_1 = -\\mathbf{q}_2 - \\mathbf{q}_3 - \\mathbf{q}_4 \\\\\n",
    "\\end{align*}\n",
    "$$"
   ]
  },
  {
   "cell_type": "markdown",
   "metadata": {},
   "source": [
    "## Position Based Dynamics Algorithm"
   ]
  },
  {
   "cell_type": "markdown",
   "metadata": {},
   "source": [
    "```c++\n",
    "void dampVelocities(vector &v);\n",
    "void solveConstraints(vector &constraints, vector &vertices);\n",
    "\n",
    "std::vector<VertexType> tempPos;\n",
    "std::vector<ConstraintType> constraints;\n",
    "\n",
    "while(simulationRunning) {   \n",
    "  for(auto &v : vertices)\n",
    "    // temporary velocity update  \n",
    "    v.vel = v.vel + dt * v.weight * v.extForce;  \n",
    "  dampVelocities(vertices);\n",
    "    \n",
    "  for(int i(0); i < vertices.size(); ++i)     \n",
    "    // temporary position update  \n",
    "    tempPos[i] = vertices[i].pos + dt * vertices[i].vel;    \n",
    "  \n",
    "  // Solve the constraints to get the corrections\n",
    "  for(int i(0); i < solverIterations; ++i)         \n",
    "    solveConstraints(constraints, vertices);    \n",
    "    \n",
    "  // correct the temporary positions and velocities  \n",
    "  for(int i(0); i < vertices.size(); ++i)\n",
    "    VertexType &v = vertices[i];  \n",
    "    v.vel = (tempPos[i] - v.pos)/dt;\n",
    "    v.pos = tempPos[i];\n",
    "        \n",
    "}\n",
    "```"
   ]
  },
  {
   "cell_type": "code",
   "execution_count": null,
   "metadata": {},
   "outputs": [],
   "source": []
  }
 ],
 "metadata": {
  "kernelspec": {
   "display_name": "Python 3",
   "language": "python",
   "name": "python3"
  },
  "language_info": {
   "codemirror_mode": {
    "name": "ipython",
    "version": 3
   },
   "file_extension": ".py",
   "mimetype": "text/x-python",
   "name": "python",
   "nbconvert_exporter": "python",
   "pygments_lexer": "ipython3",
   "version": "3.7.3"
  }
 },
 "nbformat": 4,
 "nbformat_minor": 2
}
