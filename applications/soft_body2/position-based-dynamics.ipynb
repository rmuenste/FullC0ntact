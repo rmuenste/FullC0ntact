{
 "cells": [
  {
   "cell_type": "code",
   "execution_count": 11,
   "metadata": {},
   "outputs": [
    {
     "data": {
      "text/html": [
       "<p><img src=\"bending_constraint.svg\" width=\"500px\"/></p>\n"
      ],
      "text/plain": [
       "<IPython.core.display.HTML object>"
      ]
     },
     "metadata": {},
     "output_type": "display_data"
    }
   ],
   "source": [
    "%%HTML\n",
    "<p><img src=\"bending_constraint.svg\" width=\"500px\"/></p>"
   ]
  },
  {
   "cell_type": "markdown",
   "metadata": {},
   "source": [
    "### Bending Contraint\n",
    "\n",
    "\n"
   ]
  },
  {
   "cell_type": "code",
   "execution_count": 40,
   "metadata": {},
   "outputs": [
    {
     "data": {
      "text/latex": [
       "$$\\mathbf{n}_1 = \\left(\\mathbf{p}_2-\\mathbf{p}_1\\right) \\times \\left(\\mathbf{p}_3-\\mathbf{p}_1\\right)$$\n",
       "$$\\mathbf{n}_2 = \\left(\\mathbf{p}_2-\\mathbf{p}_1\\right) \\times \\left(\\mathbf{p}_4-\\mathbf{p}_1\\right)$$\n",
       "$$ $$\n",
       "$$\\textbf{Contraint Function}$$\n",
       "$$c_b = \\left(\\mathbf{p}_1,\\mathbf{p}_2,\\mathbf{p}_3, \\mathbf{p}_4\\right) = \\arccos \\left( \\frac{\\mathbf{n}_1}{|\\mathbf{n}_1|} \\cdot \\frac{\\mathbf{n}_2}{|\\mathbf{n}_2|} \\right) - \\theta_0$$\n"
      ],
      "text/plain": [
       "<IPython.core.display.Latex object>"
      ]
     },
     "metadata": {},
     "output_type": "display_data"
    }
   ],
   "source": [
    "%%latex\n",
    "$$\\mathbf{n}_1 = \\left(\\mathbf{p}_2-\\mathbf{p}_1\\right) \\times \\left(\\mathbf{p}_3-\\mathbf{p}_1\\right)$$\n",
    "$$\\mathbf{n}_2 = \\left(\\mathbf{p}_2-\\mathbf{p}_1\\right) \\times \\left(\\mathbf{p}_4-\\mathbf{p}_1\\right)$$\n",
    "$$ $$\n",
    "$$\\textbf{Contraint Function}$$\n",
    "$$c_b = \\left(\\mathbf{p}_1,\\mathbf{p}_2,\\mathbf{p}_3, \\mathbf{p}_4\\right) = \\arccos \\left( \\frac{\\mathbf{n}_1}{|\\mathbf{n}_1|} \\cdot \\frac{\\mathbf{n}_2}{|\\mathbf{n}_2|} \\right) - \\theta_0$$"
   ]
  },
  {
   "cell_type": "markdown",
   "metadata": {},
   "source": [
    "### The Dihedral Angle and the Bending Constraint\n",
    "The dihedral angle $\\theta$ is the angle between to adjacent triangles. The angle $\\theta_0$ is the angle in the 'resting' position of a deformable mesh. So the bending constraint $c_b$ measures the difference between the resting angle $\\theta_0$ and\n",
    "the current dihedral angle $\\theta$."
   ]
  },
  {
   "cell_type": "code",
   "execution_count": 41,
   "metadata": {},
   "outputs": [
    {
     "data": {
      "text/html": [
       "<p><img src=\"bending_constraint2.svg\" width=\"500px\"/></p>\n"
      ],
      "text/plain": [
       "<IPython.core.display.HTML object>"
      ]
     },
     "metadata": {},
     "output_type": "display_data"
    }
   ],
   "source": [
    "%%HTML\n",
    "<p><img src=\"bending_constraint2.svg\" width=\"500px\"/></p>"
   ]
  },
  {
   "cell_type": "markdown",
   "metadata": {},
   "source": [
    "### Distance Contraint"
   ]
  },
  {
   "cell_type": "code",
   "execution_count": 73,
   "metadata": {},
   "outputs": [
    {
     "data": {
      "text/latex": [
       "$$ $$\n",
       "We try to find a correction $\\Delta \\mathbf{p}$ so that \n",
       "$$\\textbf{Contraint Function}$$\n",
       "$$c_d \\left(\\mathbf{p} + \\Delta \\mathbf{p} \\right) = \\mathbf{0}$$\n",
       "$$c_d \\left(\\mathbf{p} + \\Delta \\mathbf{p} \\right) \\approx c_d (\\mathbf{p}) + \\nabla_{\\mathbf{p}}c_d(\\mathbf{p}) \\cdot \\Delta \\mathbf{p} = \\mathbf{0}$$\n",
       "$$\\Delta \\mathbf{p} = \\lambda \\nabla_{\\mathbf{p}}c_d(\\mathbf{p})$$\n",
       "For a single particle $i$\n",
       "$$\\Delta \\mathbf{p}_i = -s w_i \\nabla_{\\mathbf{p}_i}c_d(\\mathbf{p}) \\text{, }w_i = \\frac{1}{m_i}$$\n",
       "$$ s = \\frac{c_d(\\mathbf{p})}{\\sum w_j |\\nabla_{\\mathbf{p}_j}c_d(\\mathbf{p})|^2}$$\n"
      ],
      "text/plain": [
       "<IPython.core.display.Latex object>"
      ]
     },
     "metadata": {},
     "output_type": "display_data"
    }
   ],
   "source": [
    "%%latex\n",
    "$$ $$\n",
    "We try to find a correction $\\Delta \\mathbf{p}$ so that \n",
    "$$\\textbf{Contraint Function}$$\n",
    "$$c_d \\left(\\mathbf{p} + \\Delta \\mathbf{p} \\right) = \\mathbf{0}$$\n",
    "$$c_d \\left(\\mathbf{p} + \\Delta \\mathbf{p} \\right) \\approx c_d (\\mathbf{p}) + \\nabla_{\\mathbf{p}}c_d(\\mathbf{p}) \\cdot \\Delta \\mathbf{p} = \\mathbf{0}$$\n",
    "$$\\Delta \\mathbf{p} = \\lambda \\nabla_{\\mathbf{p}}c_d(\\mathbf{p})$$\n",
    "For a single particle $i$\n",
    "$$\\Delta \\mathbf{p}_i = -s w_i \\nabla_{\\mathbf{p}_i}c_d(\\mathbf{p}) \\text{, }w_i = \\frac{1}{m_i}$$\n",
    "$$ s = \\frac{c_d(\\mathbf{p})}{\\sum w_j |\\nabla_{\\mathbf{p}_j}c_d(\\mathbf{p})|^2}$$\n"
   ]
  },
  {
   "cell_type": "code",
   "execution_count": null,
   "metadata": {},
   "outputs": [],
   "source": []
  }
 ],
 "metadata": {
  "kernelspec": {
   "display_name": "Python 3",
   "language": "python",
   "name": "python3"
  },
  "language_info": {
   "codemirror_mode": {
    "name": "ipython",
    "version": 3
   },
   "file_extension": ".py",
   "mimetype": "text/x-python",
   "name": "python",
   "nbconvert_exporter": "python",
   "pygments_lexer": "ipython3",
   "version": "3.7.3"
  }
 },
 "nbformat": 4,
 "nbformat_minor": 2
}
