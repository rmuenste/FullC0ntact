{
 "cells": [
  {
   "cell_type": "code",
   "execution_count": 1,
   "metadata": {
    "collapsed": true
   },
   "outputs": [],
   "source": [
    "import numpy as np\n",
    "import matplotlib.pyplot as plt\n",
    "import matplotlib as mlib\n",
    "import math\n",
    "import pylab\n",
    "%matplotlib qt"
   ]
  },
  {
   "cell_type": "code",
   "execution_count": 16,
   "metadata": {
    "collapsed": false
   },
   "outputs": [
    {
     "data": {
      "text/latex": [
       "$a_0 = 1$, \n",
       "$b = 0.105$\n",
       "\\begin{equation}\n",
       "l_0 = 0.5 \\cdot a_0\n",
       "\\end{equation}\n",
       "\\begin{equation}\n",
       "\\lambda = 21 a_0\n",
       "\\end{equation}\n",
       "$N=88$\n",
       "\\begin{equation}\n",
       "c(n,t)=b \\cdot sin \\left[ 2\\pi \\left( \\nu t + n l_0 \\right) \\right] \\quad n \\in [1,N]\n",
       "\\end{equation}"
      ],
      "text/plain": [
       "<IPython.core.display.Latex object>"
      ]
     },
     "metadata": {},
     "output_type": "display_data"
    }
   ],
   "source": [
    "%%latex\n",
    "$a_0 = 1$, \n",
    "$b = 0.105$\n",
    "\\begin{equation}\n",
    "l_0 = 0.5 \\cdot a_0\n",
    "\\end{equation}\n",
    "\\begin{equation}\n",
    "\\lambda = 21 a_0\n",
    "\\end{equation}\n",
    "$N=88$\n",
    "\\begin{equation}\n",
    "c(n,t)=b \\cdot sin \\left[ 2\\pi \\left( \\nu t + n l_0 \\right) \\right] \\quad n \\in [1,N]\n",
    "\\end{equation}"
   ]
  },
  {
   "cell_type": "code",
   "execution_count": 71,
   "metadata": {
    "collapsed": false
   },
   "outputs": [],
   "source": [
    "b=0.105\n",
    "t=0.0\n",
    "l0=1\n",
    "x=np.arange(0, 89, 1.0)\n",
    "l=88.0 * l0\n",
    "fig = plt.figure()\n",
    "for i in range(101):\n",
    "  ax = fig.gca()    \n",
    "  y = b * np.sin(2.0 * np.pi * (2.0 * t + x * l0/(l*0.5)))\n",
    "  plt.plot(x,y)\n",
    "  plt.ylim([-0.5,0.5])\n",
    "  t = t + 0.01\n",
    "  plt.savefig(\"images/pic%02d.png\" % i)\n",
    "  plt.clf()"
   ]
  },
  {
   "cell_type": "code",
   "execution_count": 67,
   "metadata": {
    "collapsed": false
   },
   "outputs": [
    {
     "data": {
      "text/plain": [
       "'/home/raphael/code/GitHub/FullC0ntact-2017/bin/applications/taylor_line'"
      ]
     },
     "execution_count": 67,
     "metadata": {},
     "output_type": "execute_result"
    }
   ],
   "source": [
    "%pwd"
   ]
  },
  {
   "cell_type": "code",
   "execution_count": 31,
   "metadata": {
    "collapsed": true
   },
   "outputs": [],
   "source": [
    "\n",
    "#t_steel_slices = np.loadtxt('T-steel-slicez-all600.dat')\n",
    "#fig = plt.figure()\n",
    "#for i in range(34):\n",
    "#  ax = fig.gca()\n",
    "#  plt.grid()\n",
    "#  plt.ylabel('TAvg-SliceZ[°K]')\n",
    "#  plt.xlabel('z')\n",
    "#  plt.ylim([300,950])\n",
    "#  plt.xlim([-3,3])\n",
    "#  plt.plot(-t_steel_slices[::34,1],t_steel_slices[i::34,2],color=\"blue\",lw=2,marker='o', label='T')\n",
    "#  plt.title(\"Temperaturentwicklung SliceZ\")\n",
    "#  plt.legend()\n",
    "#  plt.savefig(\"600_T_slicez/pic%02d.png\" % i)\n",
    "#  plt.clf()"
   ]
  },
  {
   "cell_type": "code",
   "execution_count": 63,
   "metadata": {
    "collapsed": false
   },
   "outputs": [
    {
     "data": {
      "text/plain": [
       "array([ 0.  ,  0.01,  0.02,  0.03,  0.04,  0.05,  0.06,  0.07,  0.08,\n",
       "        0.09,  0.1 ,  0.11,  0.12,  0.13,  0.14,  0.15,  0.16,  0.17,\n",
       "        0.18,  0.19,  0.2 ,  0.21,  0.22,  0.23,  0.24,  0.25,  0.26,\n",
       "        0.27,  0.28,  0.29,  0.3 ,  0.31,  0.32,  0.33,  0.34,  0.35,\n",
       "        0.36,  0.37,  0.38,  0.39,  0.4 ,  0.41,  0.42,  0.43,  0.44,\n",
       "        0.45,  0.46,  0.47,  0.48,  0.49,  0.5 ,  0.51,  0.52,  0.53,\n",
       "        0.54,  0.55,  0.56,  0.57,  0.58,  0.59,  0.6 ,  0.61,  0.62,\n",
       "        0.63,  0.64,  0.65,  0.66,  0.67,  0.68,  0.69,  0.7 ,  0.71,\n",
       "        0.72,  0.73,  0.74,  0.75,  0.76,  0.77,  0.78,  0.79,  0.8 ,\n",
       "        0.81,  0.82,  0.83,  0.84,  0.85,  0.86,  0.87,  0.88,  0.89,\n",
       "        0.9 ,  0.91,  0.92,  0.93,  0.94,  0.95,  0.96,  0.97,  0.98,\n",
       "        0.99,  1.  ])"
      ]
     },
     "execution_count": 63,
     "metadata": {},
     "output_type": "execute_result"
    }
   ],
   "source": [
    "t_time = np.linspace(0.0,1.0,101)\n",
    "t_time"
   ]
  },
  {
   "cell_type": "code",
   "execution_count": 34,
   "metadata": {
    "collapsed": false
   },
   "outputs": [
    {
     "data": {
      "text/plain": [
       "array([  0.,   1.,   2.,   3.,   4.,   5.,   6.,   7.,   8.,   9.,  10.,\n",
       "        11.,  12.,  13.,  14.,  15.,  16.,  17.,  18.,  19.,  20.,  21.,\n",
       "        22.,  23.,  24.,  25.,  26.,  27.,  28.,  29.,  30.,  31.,  32.,\n",
       "        33.,  34.,  35.,  36.,  37.,  38.,  39.,  40.,  41.,  42.,  43.,\n",
       "        44.,  45.,  46.,  47.,  48.,  49.,  50.,  51.,  52.,  53.,  54.,\n",
       "        55.,  56.,  57.,  58.,  59.,  60.,  61.,  62.,  63.,  64.,  65.,\n",
       "        66.,  67.,  68.,  69.,  70.,  71.,  72.,  73.,  74.,  75.,  76.,\n",
       "        77.,  78.,  79.,  80.,  81.,  82.,  83.,  84.,  85.,  86.,  87.])"
      ]
     },
     "execution_count": 34,
     "metadata": {},
     "output_type": "execute_result"
    }
   ],
   "source": [
    "x"
   ]
  },
  {
   "cell_type": "code",
   "execution_count": null,
   "metadata": {
    "collapsed": true
   },
   "outputs": [],
   "source": []
  }
 ],
 "metadata": {
  "kernelspec": {
   "display_name": "Python 3",
   "language": "python",
   "name": "python3"
  },
  "language_info": {
   "codemirror_mode": {
    "name": "ipython",
    "version": 3
   },
   "file_extension": ".py",
   "mimetype": "text/x-python",
   "name": "python",
   "nbconvert_exporter": "python",
   "pygments_lexer": "ipython3",
   "version": "3.5.2"
  }
 },
 "nbformat": 4,
 "nbformat_minor": 1
}
