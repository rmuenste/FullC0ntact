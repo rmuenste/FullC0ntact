{
 "cells": [
  {
   "cell_type": "code",
   "execution_count": 1,
   "metadata": {
    "collapsed": true
   },
   "outputs": [],
   "source": [
    "import numpy as np"
   ]
  },
  {
   "cell_type": "markdown",
   "metadata": {},
   "source": [
    "# Mapping to a Trilinear Hexahedron"
   ]
  },
  {
   "cell_type": "markdown",
   "metadata": {},
   "source": [
    "Mapping a point on the reference element $\\mathbf{x}=(x_1, x_2, x_3)$ to a physical point $\\mathbf{y}=(y_1, y_2, y_3)$ by a trilinear function: "
   ]
  },
  {
   "cell_type": "markdown",
   "metadata": {},
   "source": [
    "$$\n",
    "\\begin{eqnarray}\n",
    "y_1 &=& a_1 + a_2 x_1 + a_3 x_2 + a_4 x_3 + a_5 x_1 x_2 + a_6 x_1 x_3 + a_7 x_2 x_3 + a_8 x_1 x_2 x_3 \\\\\n",
    "y_2 &=& b_1 + b_2 x_1 + b_3 x_2 + b_4 x_3 + b_5 x_1 x_2 + b_6 x_1 x_3 + b_7 x_2 x_3 + b_8 x_1 x_2 x_3 \\\\\n",
    "y_3 &=& c_1 + c_2 x_1 + c_3 x_2 + c_4 x_3 + c_5 x_1 x_2 + c_6 x_1 x_3 + c_7 x_2 x_3 + c_8 x_1 x_2 x_3 \\\\\n",
    "\\end{eqnarray}\n",
    "$$"
   ]
  },
  {
   "cell_type": "markdown",
   "metadata": {},
   "source": [
    "We know the mapping $\\mathbf{y} = F(\\mathbf{x})$ maps the vertices of the reference element to the vertices of the hexa:\n"
   ]
  },
  {
   "cell_type": "markdown",
   "metadata": {},
   "source": [
    "$$\n",
    "\\begin{eqnarray}\n",
    "F(-1,-1,-1) &=& (x_1,y_1,z_1) \\\\\n",
    "F(+1,-1,-1)  &=& (x_2,y_2,z_2) \\\\\n",
    "F(+1,+1,-1)   &=& (x_3,y_3,z_3) \\\\\n",
    "F(-1,+1,-1)  &=& (x_4,y_4,z_4) \\\\\n",
    "F(-1,-1,+1)  &=& (x_5,y_5,z_5) \\\\\n",
    "F(+1,-1,+1)   &=& (x_6,y_6,z_6) \\\\\n",
    "F(+1,+1,+1)    &=& (x_7,y_7,z_7) \\\\\n",
    "F(-1,+1,+1)   &=& (x_8,y_8,z_8) \n",
    "\\end{eqnarray}\n",
    "$$\n"
   ]
  },
  {
   "cell_type": "markdown",
   "metadata": {},
   "source": [
    "By substituting the points of the reference element in $F(\\mathbf{x})$ we get 3 system of equation like this:"
   ]
  },
  {
   "cell_type": "markdown",
   "metadata": {},
   "source": [
    "$$\n",
    "\\begin{eqnarray*}\n",
    "a_1 - a_2 - a_3 - a_4 + a_5 + a_6 + a_7 - a_8 &=& x_1 \\\\\n",
    "a_1 + a_2 - a_3 - a_4 - a_5 - a_6 + a_7 + a_8 &=& x_2 \\\\\n",
    "a_1 + a_2 + a_3 - a_4 + a_5 - a_6 - a_7 - a_8 &=& x_3 \\\\\n",
    "a_1 - a_2 + a_3 - a_4 - a_5 + a_6 - a_7 + a_8 &=& x_4 \\\\\n",
    "a_1 - a_2 - a_3 + a_4 + a_5 - a_6 - a_7 + a_8 &=& x_5 \\\\\n",
    "a_1 + a_2 - a_3 + a_4 - a_5 + a_6 - a_7 - a_8 &=& x_6 \\\\\n",
    "a_1 + a_2 + a_3 + a_4 + a_5 + a_6 + a_7 + a_8 &=& x_7 \\\\\n",
    "a_1 - a_2 + a_3 + a_4 - a_5 - a_6 + a_7 - a_8 &=& x_8 \n",
    "\\end{eqnarray*}\n",
    "$$\n"
   ]
  },
  {
   "cell_type": "markdown",
   "metadata": {},
   "source": [
    "$$\n",
    "\\begin{eqnarray*}\n",
    "a_1 &=& \\frac{1}{8} \\cdot ( x_1 + x_2 + x_3 + x_4 + x_5 + x_6 + x_7 + x_8) \\\\\n",
    "a_2 &=& \\frac{1}{8} \\cdot (-x_1 + x_2 + x_3 - x_4 - x_5 + x_6 + x_7 - x_8) \\\\\n",
    "a_3 &=& \\frac{1}{8} \\cdot (-x_1 - x_2 + x_3 + x_4 - x_5 - x_6 + x_7 + x_8) \\\\\n",
    "a_4 &=& \\frac{1}{8} \\cdot (-x_1 - x_2 - x_3 - x_4 + x_5 + x_6 + x_7 + x_8) \\\\\n",
    "a_5 &=& \\frac{1}{8} \\cdot ( x_1 - x_2 + x_3 - x_4 + x_5 - x_6 + x_7 - x_8) \\\\\n",
    "a_6 &=& \\frac{1}{8} \\cdot ( x_1 - x_2 - x_3 + x_4 - x_5 + x_6 + x_7 - x_8) \\\\\n",
    "a_7 &=& \\frac{1}{8} \\cdot ( x_1 + x_2 - x_3 - x_4 - x_5 - x_6 + x_7 + x_8) \\\\\n",
    "a_8 &=& \\frac{1}{8} \\cdot (-x_1 + x_2 - x_3 + x_4 + x_5 - x_6 + x_7 - x_8)\n",
    "\\end{eqnarray*}\n",
    "$$"
   ]
  },
  {
   "cell_type": "markdown",
   "metadata": {},
   "source": [
    "Aufstellen der Jacobimatrix $\\mathbf{J}$ für $F(\\mathbf{x})$:"
   ]
  },
  {
   "cell_type": "markdown",
   "metadata": {},
   "source": [
    "$$\n",
    "\\begin{eqnarray*}\n",
    "\\frac{\\partial F_1}{\\partial x_1} &=& a_2 + a_5x_2 + a_6x_3 + a_8x_2x_3 \\\\\n",
    "\\frac{\\partial F_1}{\\partial x_2} &=& a_3 + a_5x_1 + a_7x_3 + a_8x_1x_3 \\\\\n",
    "\\frac{\\partial F_1}{\\partial x_3} &=& a_4 + a_6x_1 + a_7x_2 + a_8x_1x_2\t \\\\\n",
    "\\frac{\\partial F_2}{\\partial x_1} &=& b_2 + b_5x_2 + b_6x_3 + b_8x_2x_3\t \\\\\n",
    "\\frac{\\partial F_2}{\\partial x_2} &=& b_3 + b_5x_1 + b_7x_3 + b_8x_1x_3\t \\\\\n",
    "\\frac{\\partial F_2}{\\partial x_3} &=& b_4 + b_6x_1 + b_7x_2 + b_8x_1x_2\t \\\\\n",
    "\\frac{\\partial F_3}{\\partial x_1} &=& c_2 + c_5x_2 + c_6x_3 + c_8x_2x_3\t \\\\\n",
    "\\frac{\\partial F_3}{\\partial x_2} &=& c_3 + c_5x_1 + c_7x_3 + c_8x_1x_3\t \\\\\n",
    "\\frac{\\partial F_3}{\\partial x_3} &=& c_4 + c_6x_1 + c_7x_2 + c_8x_1x_2\t\n",
    "\\end{eqnarray*}\n",
    "$$"
   ]
  },
  {
   "cell_type": "markdown",
   "metadata": {},
   "source": [
    "By a Newton-iteration we want to calculate the zeros of $F(x)-b$ bestimmen:"
   ]
  },
  {
   "cell_type": "markdown",
   "metadata": {},
   "source": [
    "$$\n",
    "\\begin{eqnarray*}\n",
    "x_{n+1}&=&x_n-\\mathbf{J}^{-1}(x) \\cdot \\left[F(x_n)-b\\right] \\\\\n",
    "\\Delta x&=&x_{n+1}-x_n \\\\\n",
    "\\Delta x&=&-\\mathbf{J}^{-1}(x) \\cdot \\left[F(x_n)-b\\right] | \\cdot \\mathbf{J}\\left(x\\right) \\\\\n",
    "\\mathbf{J}\\left(x\\right) \\Delta x &=& - \\left[F(x_n)-b\\right] \n",
    "\\end{eqnarray*}\n",
    "$$"
   ]
  },
  {
   "cell_type": "markdown",
   "metadata": {},
   "source": [
    "Solve the system by Cramer's rule:"
   ]
  },
  {
   "cell_type": "markdown",
   "metadata": {},
   "source": [
    "$$\n",
    "\\begin{equation*}\n",
    "x_i=\\frac{det\\left(\\mathbf{J}F_i\\right)}{det\\left(\\mathbf{J}F\\right)} \\text{, }i=x,y,z\n",
    "\\end{equation*}\n",
    "$$"
   ]
  },
  {
   "cell_type": "code",
   "execution_count": 2,
   "metadata": {},
   "outputs": [
    {
     "data": {
      "text/plain": [
       "array([[ 1, -1, -1, -1,  1,  1,  1, -1],\n",
       "       [ 1,  1, -1, -1, -1, -1,  1,  1],\n",
       "       [ 1,  1,  1, -1,  1, -1, -1, -1],\n",
       "       [ 1, -1,  1, -1, -1,  1, -1,  1],\n",
       "       [ 1, -1, -1,  1,  1, -1, -1,  1],\n",
       "       [ 1,  1, -1,  1, -1,  1, -1, -1],\n",
       "       [ 1,  1,  1,  1,  1,  1,  1,  1],\n",
       "       [ 1, -1,  1,  1, -1, -1,  1, -1]])"
      ]
     },
     "execution_count": 2,
     "metadata": {},
     "output_type": "execute_result"
    }
   ],
   "source": [
    "A_arr = np.array([\n",
    "                [1, -1, -1, -1,  1,  1,  1, -1],\n",
    "                [1,  1, -1, -1, -1, -1,  1,  1],\n",
    "                [1,  1,  1, -1,  1, -1, -1, -1],\n",
    "                [1, -1,  1, -1, -1,  1, -1,  1],\n",
    "                [1, -1, -1,  1,  1, -1, -1,  1],\n",
    "                [1,  1, -1,  1, -1,  1, -1, -1],\n",
    "                [1,  1,  1,  1,  1,  1,  1,  1],\n",
    "                [1, -1,  1,  1, -1, -1,  1, -1]])\n",
    "A_arr"
   ]
  },
  {
   "cell_type": "code",
   "execution_count": 3,
   "metadata": {
    "collapsed": true
   },
   "outputs": [],
   "source": [
    "A = np.mat(\"\"\"1 -1 -1 -1 1 1 1 -1;\n",
    "           1 1 -1 -1 -1 -1 1 1;\n",
    "           1 1 1 -1 1 -1 -1 -1;\n",
    "           1 -1 1 -1 -1 1 -1 1;\n",
    "           1 -1 -1 1 1 -1 -1 1;\n",
    "           1 1 -1 1 -1 1 -1 -1;\n",
    "           1 1 1 1 1 1 1 1;\n",
    "           1 -1 1 1 -1 -1 1 -1\"\"\")"
   ]
  },
  {
   "cell_type": "code",
   "execution_count": 4,
   "metadata": {},
   "outputs": [
    {
     "data": {
      "text/plain": [
       "array([ 1. ,  0.8, -0.6, -1. ,  0.9,  1.1, -1. , -1. ])"
      ]
     },
     "execution_count": 4,
     "metadata": {},
     "output_type": "execute_result"
    }
   ],
   "source": [
    "X_arr = np.array([1.0, 0.8, -0.6, -1.0, 0.9, 1.1, -1.0, -1.0])\n",
    "X_arr"
   ]
  },
  {
   "cell_type": "code",
   "execution_count": 5,
   "metadata": {
    "collapsed": true
   },
   "outputs": [],
   "source": [
    "X = np.mat(\"\"\"1.0;  \n",
    "           0.8;  \n",
    "           -0.6; \n",
    "           -1.0; \n",
    "           0.9;  \n",
    "           1.1;  \n",
    "           -1.0; \n",
    "           -1.0\"\"\")"
   ]
  },
  {
   "cell_type": "code",
   "execution_count": 6,
   "metadata": {},
   "outputs": [
    {
     "data": {
      "text/plain": [
       "array([ 1.  , -1.  , -1.  ,  1.  ,  1.  , -1.  , -1.  ,  0.88])"
      ]
     },
     "execution_count": 6,
     "metadata": {},
     "output_type": "execute_result"
    }
   ],
   "source": [
    "Y_arr = np.array([1.0,- 1.0, -1.0,  1.0,  1.0, -1.0, -1.0, 0.88])\n",
    "Y_arr"
   ]
  },
  {
   "cell_type": "code",
   "execution_count": 7,
   "metadata": {
    "collapsed": true
   },
   "outputs": [],
   "source": [
    "Y = np.mat(\"\"\" 1.0; \n",
    "-1.0; \n",
    "-1.0; \n",
    " 1.0; \n",
    " 1.0; \n",
    "-1.0; \n",
    "-1.0; \n",
    " 0.88\"\"\")"
   ]
  },
  {
   "cell_type": "code",
   "execution_count": 8,
   "metadata": {},
   "outputs": [
    {
     "data": {
      "text/plain": [
       "array([-1.  , -1.  , -1.  , -1.  ,  0.9 ,  0.75,  1.  ,  1.  ])"
      ]
     },
     "execution_count": 8,
     "metadata": {},
     "output_type": "execute_result"
    }
   ],
   "source": [
    "Z_arr = np.array([-1.0, -1.0, -1.0, -1.0, 0.9, 0.75, 1.0, 1.0])\n",
    "Z_arr"
   ]
  },
  {
   "cell_type": "code",
   "execution_count": 9,
   "metadata": {
    "collapsed": true
   },
   "outputs": [],
   "source": [
    "Z = np.mat(\"\"\"-1.0; \n",
    "-1.0;\n",
    "-1.0;\n",
    "-1.0;\n",
    "0.9;\n",
    "0.75;\n",
    "1.0;\n",
    "1.0\"\"\")"
   ]
  },
  {
   "cell_type": "code",
   "execution_count": 10,
   "metadata": {
    "collapsed": true
   },
   "outputs": [],
   "source": [
    "AI = np.linalg.inv(A)\n",
    "a = AI * X\n",
    "b = AI * Y\n",
    "c = AI * Z"
   ]
  },
  {
   "cell_type": "code",
   "execution_count": 11,
   "metadata": {
    "collapsed": true
   },
   "outputs": [],
   "source": [
    "a_arr = np.array(a)\n",
    "b_arr = np.array(b)\n",
    "c_arr = np.array(c)"
   ]
  },
  {
   "cell_type": "code",
   "execution_count": 12,
   "metadata": {
    "collapsed": true
   },
   "outputs": [],
   "source": [
    "a_arr=a_arr.flatten()\n",
    "b_arr=b_arr.flatten()\n",
    "c_arr=c_arr.flatten()"
   ]
  },
  {
   "cell_type": "code",
   "execution_count": 13,
   "metadata": {},
   "outputs": [
    {
     "data": {
      "text/plain": [
       "0.98750000000000004"
      ]
     },
     "execution_count": 13,
     "metadata": {},
     "output_type": "execute_result"
    }
   ],
   "source": [
    "np.float64(c[3]+c[5]*X[0]+c[6]*X[1]+c[7]*X[0]*X[1])\n"
   ]
  },
  {
   "cell_type": "code",
   "execution_count": 14,
   "metadata": {
    "collapsed": true
   },
   "outputs": [],
   "source": [
    "J=np.mat([[\n",
    "        np.float64(a[1]+a[4]*X[1]+a[5]*X[2]+a[7]*X[1]*X[2]),\n",
    "        np.float64(a[2]+a[4]*X[0]+a[6]*X[2]+a[7]*X[0]*X[2]),\n",
    "        np.float64(a[3]+a[5]*X[0]+a[6]*X[1]+a[7]*X[0]*X[1])\n",
    "        ],\n",
    "        [\n",
    "        np.float64(b[1]+b[4]*X[1]+b[5]*X[2]+b[7]*X[1]*X[2]),\n",
    "        np.float64(b[2]+b[4]*X[0]+b[6]*X[2]+b[7]*X[0]*X[2]),\n",
    "        np.float64(b[3]+b[5]*X[0]+b[6]*X[1]+b[7]*X[0]*X[1])\n",
    "        ],\n",
    "        [\n",
    "        np.float64(c[1]+c[4]*X[1]+c[5]*X[2]+c[7]*X[1]*X[2]),\n",
    "        np.float64(c[2]+c[4]*X[0]+c[6]*X[2]+c[7]*X[0]*X[2]),\n",
    "        np.float64(c[3]+c[5]*X[0]+c[6]*X[1]+c[7]*X[0]*X[1])                    \n",
    "        ]])    \n",
    "        "
   ]
  },
  {
   "cell_type": "code",
   "execution_count": 15,
   "metadata": {},
   "outputs": [
    {
     "data": {
      "text/plain": [
       "matrix([[ 0.138 , -0.77  , -0.165 ],\n",
       "        [-0.9892,  0.    ,  0.    ],\n",
       "        [-0.0015,  0.025 ,  0.9875]])"
      ]
     },
     "execution_count": 15,
     "metadata": {},
     "output_type": "execute_result"
    }
   ],
   "source": [
    "J\n"
   ]
  },
  {
   "cell_type": "code",
   "execution_count": null,
   "metadata": {
    "collapsed": true
   },
   "outputs": [],
   "source": []
  },
  {
   "cell_type": "code",
   "execution_count": 16,
   "metadata": {
    "collapsed": true
   },
   "outputs": [],
   "source": [
    "import sympy"
   ]
  },
  {
   "cell_type": "code",
   "execution_count": 17,
   "metadata": {},
   "outputs": [
    {
     "data": {
      "text/plain": [
       "2*y + 3*z"
      ]
     },
     "execution_count": 17,
     "metadata": {},
     "output_type": "execute_result"
    }
   ],
   "source": [
    "x, y, z = sympy.symbols('x,y,z')\n",
    "x + 2 * y + 3 * z - x"
   ]
  },
  {
   "cell_type": "code",
   "execution_count": 18,
   "metadata": {
    "collapsed": true
   },
   "outputs": [],
   "source": [
    "#2*y + 3*z.subs(y, 10)"
   ]
  },
  {
   "cell_type": "code",
   "execution_count": 19,
   "metadata": {
    "collapsed": true
   },
   "outputs": [],
   "source": [
    "#(2*y + 3*z).subs(y, 10)"
   ]
  },
  {
   "cell_type": "code",
   "execution_count": 20,
   "metadata": {
    "collapsed": true
   },
   "outputs": [],
   "source": [
    "#(2*y + 3*z).subs({y:10, z:1})"
   ]
  },
  {
   "cell_type": "code",
   "execution_count": 21,
   "metadata": {
    "collapsed": true
   },
   "outputs": [],
   "source": [
    "from sympy import symbols,Matrix"
   ]
  },
  {
   "cell_type": "code",
   "execution_count": 22,
   "metadata": {
    "collapsed": true
   },
   "outputs": [],
   "source": [
    "#A = Matrix(([3, 7], [4, -2]))"
   ]
  },
  {
   "cell_type": "code",
   "execution_count": 23,
   "metadata": {
    "collapsed": true
   },
   "outputs": [],
   "source": [
    "#print(A)"
   ]
  },
  {
   "cell_type": "code",
   "execution_count": 24,
   "metadata": {
    "collapsed": true
   },
   "outputs": [],
   "source": [
    "#b = Matrix((12*z, 5*z))"
   ]
  },
  {
   "cell_type": "code",
   "execution_count": 25,
   "metadata": {
    "collapsed": true
   },
   "outputs": [],
   "source": [
    "#print(b)"
   ]
  },
  {
   "cell_type": "code",
   "execution_count": 26,
   "metadata": {
    "collapsed": true
   },
   "outputs": [],
   "source": [
    "#x = A.inv() * b"
   ]
  },
  {
   "cell_type": "code",
   "execution_count": 27,
   "metadata": {
    "collapsed": true
   },
   "outputs": [],
   "source": [
    "#print(x)"
   ]
  },
  {
   "cell_type": "code",
   "execution_count": 28,
   "metadata": {
    "collapsed": true
   },
   "outputs": [],
   "source": [
    "#x.subs(z, 3.3)"
   ]
  },
  {
   "cell_type": "code",
   "execution_count": 29,
   "metadata": {
    "collapsed": true
   },
   "outputs": [],
   "source": [
    "#x.subs(z, 3.3).evalf(4)"
   ]
  },
  {
   "cell_type": "code",
   "execution_count": 30,
   "metadata": {
    "collapsed": true
   },
   "outputs": [],
   "source": [
    "#A = Matrix(([3, 7], [4, -2]))\n",
    "J=np.mat([[\n",
    "        np.float64(a[1]+a[4]*X[1]+a[5]*X[2]+a[7]*X[1]*X[2]),\n",
    "        np.float64(a[2]+a[4]*X[0]+a[6]*X[2]+a[7]*X[0]*X[2]),\n",
    "        np.float64(a[3]+a[5]*X[0]+a[6]*X[1]+a[7]*X[0]*X[1])\n",
    "        ],\n",
    "        [\n",
    "        np.float64(b[1]+b[4]*X[1]+b[5]*X[2]+b[7]*X[1]*X[2]),\n",
    "        np.float64(b[2]+b[4]*X[0]+b[6]*X[2]+b[7]*X[0]*X[2]),\n",
    "        np.float64(b[3]+b[5]*X[0]+b[6]*X[1]+b[7]*X[0]*X[1])\n",
    "        ],\n",
    "        [\n",
    "        np.float64(c[1]+c[4]*X[1]+c[5]*X[2]+c[7]*X[1]*X[2]),\n",
    "        np.float64(c[2]+c[4]*X[0]+c[6]*X[2]+c[7]*X[0]*X[2]),\n",
    "        np.float64(c[3]+b[5]*X[0]+c[6]*X[1]+c[7]*X[0]*X[1])                    \n",
    "        ]])    \n",
    "        "
   ]
  },
  {
   "cell_type": "code",
   "execution_count": 31,
   "metadata": {
    "collapsed": true
   },
   "outputs": [],
   "source": [
    "x1, x2, x3 = sympy.symbols('x1,x2,x3')"
   ]
  },
  {
   "cell_type": "code",
   "execution_count": 32,
   "metadata": {},
   "outputs": [
    {
     "data": {
      "text/plain": [
       "Matrix([\n",
       "[                      -0.1*x2*x3 + 0.05*x2 + 0.05,           -0.1*x1*x3 + 0.05*x1 - 0.075*x3 - 0.925,                     -0.1*x1*x2 - 0.075*x2 - 0.025],\n",
       "[        0.015*x2*x3 + 0.015*x2 + 0.015*x3 - 0.985,         0.015*x1*x3 + 0.015*x1 - 0.015*x3 - 0.015,         0.015*x1*x2 + 0.015*x1 - 0.015*x2 - 0.015],\n",
       "[0.01875*x2*x3 + 0.01875*x2 - 0.01875*x3 - 0.01875, 0.01875*x1*x3 + 0.01875*x1 + 0.04375*x3 + 0.04375, 0.01875*x1*x2 - 0.01875*x1 + 0.04375*x2 + 0.95625]])"
      ]
     },
     "execution_count": 32,
     "metadata": {},
     "output_type": "execute_result"
    }
   ],
   "source": [
    "JI = Matrix([\n",
    "           [a_arr[1]+a_arr[4]*x2+a_arr[5]*x3+a_arr[7]*x2*x3,\n",
    "           a_arr[2]+a_arr[4]*x1+a_arr[6]*x3+a_arr[7]*x1*x3, \n",
    "           a_arr[3]+a_arr[5]*x1+a_arr[6]*x2+a_arr[7]*x1*x2],\n",
    "           [b_arr[1]+b_arr[4]*x2+b_arr[5]*x3+b_arr[7]*x2*x3,\n",
    "           b_arr[2]+b_arr[4]*x1+b_arr[6]*x3+b_arr[7]*x1*x3, \n",
    "           b_arr[3]+b_arr[5]*x1+b_arr[6]*x2+b_arr[7]*x1*x2],\n",
    "           [c_arr[1]+c_arr[4]*x2+c_arr[5]*x3+c_arr[7]*x2*x3,\n",
    "           c_arr[2]+c_arr[4]*x1+c_arr[6]*x3+c_arr[7]*x1*x3, \n",
    "           c_arr[3]+c_arr[5]*x1+c_arr[6]*x2+c_arr[7]*x1*x2]]\n",
    "           )\n",
    "JI"
   ]
  },
  {
   "cell_type": "code",
   "execution_count": 33,
   "metadata": {},
   "outputs": [
    {
     "data": {
      "text/plain": [
       "Matrix([\n",
       "[ 0.2, -0.7, -0.2],\n",
       "[-1.0,    0,    0],\n",
       "[   0,    0,  1.0]])"
      ]
     },
     "execution_count": 33,
     "metadata": {},
     "output_type": "execute_result"
    }
   ],
   "source": [
    "JI_num = JI.subs([(x1, np.float64(X[0])), (x2, np.float64(Y[0])), (x3, np.float64(Z[0]))])\n",
    "JI_num"
   ]
  },
  {
   "cell_type": "code",
   "execution_count": null,
   "metadata": {
    "collapsed": true
   },
   "outputs": [],
   "source": [
    " "
   ]
  },
  {
   "cell_type": "code",
   "execution_count": 34,
   "metadata": {},
   "outputs": [
    {
     "data": {
      "text/plain": [
       "numpy.float64"
      ]
     },
     "execution_count": 34,
     "metadata": {},
     "output_type": "execute_result"
    }
   ],
   "source": [
    "type(a_arr[0])"
   ]
  },
  {
   "cell_type": "code",
   "execution_count": 35,
   "metadata": {},
   "outputs": [
    {
     "data": {
      "text/plain": [
       "array([[ 0.2, -0.7, -0.2],\n",
       "       [-1. ,  0. ,  0. ],\n",
       "       [ 0. ,  0. ,  1. ]])"
      ]
     },
     "execution_count": 35,
     "metadata": {},
     "output_type": "execute_result"
    }
   ],
   "source": [
    "JJ=np.array(JI_num).astype(np.float64)\n",
    "JJ"
   ]
  },
  {
   "cell_type": "markdown",
   "metadata": {},
   "source": [
    "$$\n",
    "\\begin{eqnarray*}\n",
    "x_{n+1}&=&x_n-\\mathbf{J}^{-1}(x) \\cdot \\left[F(x_n)-b\\right] \\\\\n",
    "\\Delta x&=&x_{n+1}-x_n \\\\\n",
    "\\Delta x&=&-\\mathbf{J}^{-1}(x) \\cdot \\left[F(x_n)-b\\right] | \\cdot \\mathbf{J}\\left(x\\right) \\\\\n",
    "\\mathbf{J}\\left(x\\right) \\Delta x &=& - \\left[F(x_n)-b\\right] \n",
    "\\end{eqnarray*}\n",
    "$$"
   ]
  },
  {
   "cell_type": "markdown",
   "metadata": {},
   "source": [
    "$$\n",
    "\\begin{eqnarray}\n",
    "y_1 &=& a_1 + a_2 x_1 + a_3 x_2 + a_4 x_3 + a_5 x_1 x_2 + a_6 x_1 x_3 + a_7 x_2 x_3 + a_8 x_1 x_2 x_3 \\\\\n",
    "y_2 &=& b_1 + b_2 x_1 + b_3 x_2 + b_4 x_3 + b_5 x_1 x_2 + b_6 x_1 x_3 + b_7 x_2 x_3 + b_8 x_1 x_2 x_3 \\\\\n",
    "y_3 &=& c_1 + c_2 x_1 + c_3 x_2 + c_4 x_3 + c_5 x_1 x_2 + c_6 x_1 x_3 + c_7 x_2 x_3 + c_8 x_1 x_2 x_3 \\\\\n",
    "\\end{eqnarray}\n",
    "$$"
   ]
  },
  {
   "cell_type": "code",
   "execution_count": 50,
   "metadata": {
    "collapsed": true
   },
   "outputs": [],
   "source": [
    "x0, y0, z0 = sympy.symbols('x0,y0,z0')"
   ]
  },
  {
   "cell_type": "code",
   "execution_count": 51,
   "metadata": {
    "collapsed": true
   },
   "outputs": [],
   "source": [
    "rhs = Matrix([\n",
    "            [a_arr[0]+a_arr[1]*x1+a_arr[2]*x2+a_arr[3]*x3+a_arr[4]*x1*x2+a_arr[5]*x1*x3+a_arr[6]*x2*x3+a_arr[7]*x1*x2*x3-x0],\n",
    "            [b_arr[0]+b_arr[1]*x1+b_arr[2]*x2+b_arr[3]*x3+b_arr[4]*x1*x2+b_arr[5]*x1*x3+b_arr[6]*x2*x3+b_arr[7]*x1*x2*x3-y0],\n",
    "            [c_arr[0]+c_arr[1]*x1+c_arr[2]*x2+c_arr[3]*x3+c_arr[4]*x1*x2+c_arr[5]*x1*x3+c_arr[6]*x2*x3+c_arr[7]*x1*x2*x3-z0]\n",
    "            ])"
   ]
  },
  {
   "cell_type": "code",
   "execution_count": 52,
   "metadata": {},
   "outputs": [
    {
     "data": {
      "text/plain": [
       "Matrix([\n",
       "[                                 -x0 - 0.1*x1*x2*x3 + 0.05*x1*x2 + 0.05*x1 - 0.075*x2*x3 - 0.925*x2 - 0.025*x3 + 0.025],\n",
       "[                0.015*x1*x2*x3 + 0.015*x1*x2 + 0.015*x1*x3 - 0.985*x1 - 0.015*x2*x3 - 0.015*x2 - 0.015*x3 - y0 - 0.015],\n",
       "[0.01875*x1*x2*x3 + 0.01875*x1*x2 - 0.01875*x1*x3 - 0.01875*x1 + 0.04375*x2*x3 + 0.04375*x2 + 0.95625*x3 - z0 - 0.04375]])"
      ]
     },
     "execution_count": 52,
     "metadata": {},
     "output_type": "execute_result"
    }
   ],
   "source": [
    "rhs"
   ]
  },
  {
   "cell_type": "code",
   "execution_count": 71,
   "metadata": {
    "collapsed": true
   },
   "outputs": [],
   "source": [
    "from numpy.linalg import solve\n",
    "def nton(xx, yy, zz, sym_rhs, sym_J):\n",
    "  px = 0  \n",
    "  py = 0  \n",
    "  pz = 0      \n",
    "  oldpx = 0  \n",
    "  oldpy = 0  \n",
    "  oldpz = 0      \n",
    "  JI_num = sym_J.subs([(x1, px), (x2, py), (x3, pz)])\n",
    "  rhs_num = sym_rhs.subs([(x1, px), (x2, py), (x3, pz), (x0, xx), (y0, yy), (z0, zz)])\n",
    "  #print(JI_num)\n",
    "  for i in range(50):\n",
    "    oldpx = px  \n",
    "    oldpy = py  \n",
    "    oldpz = pz      \n",
    "    JI_num = sym_J.subs([(x1, px), (x2, py), (x3, pz)])    \n",
    "    JJ = np.array(JI_num).astype(np.float64)\n",
    "    rhs_num = sym_rhs.subs([(x1, px), (x2, py), (x3, pz), (x0, xx), (y0, yy), (z0, zz)])    \n",
    "    RHS = np.array(rhs_num).astype(np.float64)\n",
    "    # solve Jx=rhs\n",
    "    par = solve(JJ, RHS)\n",
    "    px = par[0]\n",
    "    py = par[1]\n",
    "    pz = par[2]   \n",
    "    print(\"Iteration %i\" %i)\n",
    "    print(par)"
   ]
  },
  {
   "cell_type": "code",
   "execution_count": 72,
   "metadata": {},
   "outputs": [
    {
     "name": "stdout",
     "output_type": "stream",
     "text": [
      "Iteration 0\n",
      "[[ 0.01628285]\n",
      " [-0.02494982]\n",
      " [-0.04429087]]\n",
      "Iteration 1\n",
      "[[ 0.03247247]\n",
      " [-0.05024657]\n",
      " [-0.08874045]]\n",
      "Iteration 2\n",
      "[[ 0.04850957]\n",
      " [-0.07616044]\n",
      " [-0.13346261]]\n",
      "Iteration 3\n",
      "[[ 0.06433628]\n",
      " [-0.10300183]\n",
      " [-0.17858087]]\n",
      "Iteration 4\n",
      "[[ 0.07989509]\n",
      " [-0.13113111]\n",
      " [-0.22423178]]\n",
      "Iteration 5\n",
      "[[ 0.09512781]\n",
      " [-0.16097146]\n",
      " [-0.2705693 ]]\n",
      "Iteration 6\n",
      "[[ 0.10997421]\n",
      " [-0.19302573]\n",
      " [-0.31777047]]\n",
      "Iteration 7\n",
      "[[ 0.12437046]\n",
      " [-0.22789873]\n",
      " [-0.36604288]]\n",
      "Iteration 8\n",
      "[[ 0.13824715]\n",
      " [-0.26632696]\n",
      " [-0.41563467]]\n",
      "Iteration 9\n",
      "[[ 0.15152672]\n",
      " [-0.30921855]\n",
      " [-0.46684809]]\n",
      "Iteration 10\n",
      "[[ 0.16412005]\n",
      " [-0.35770774]\n",
      " [-0.5200583 ]]\n",
      "Iteration 11\n",
      "[[ 0.17592176]\n",
      " [-0.41322997]\n",
      " [-0.57573965]]\n",
      "Iteration 12\n",
      "[[ 0.18680354]\n",
      " [-0.4776272 ]\n",
      " [-0.63450338]]\n",
      "Iteration 13\n",
      "[[ 0.19660444]\n",
      " [-0.5532979 ]\n",
      " [-0.69715264]]\n",
      "Iteration 14\n",
      "[[ 0.20511602]\n",
      " [-0.64341517]\n",
      " [-0.7647648 ]]\n",
      "Iteration 15\n",
      "[[ 0.21205922]\n",
      " [-0.75225036]\n",
      " [-0.83881757]]\n",
      "Iteration 16\n",
      "[[ 0.21704642]\n",
      " [-0.88566492]\n",
      " [-0.92138844]]\n",
      "Iteration 17\n",
      "[[ 0.21951628]\n",
      " [-1.0518768 ]\n",
      " [-1.01548034]]\n",
      "Iteration 18\n",
      "[[ 0.21861587]\n",
      " [-1.26268543]\n",
      " [-1.12557401]]\n",
      "Iteration 19\n",
      "[[ 0.21297285]\n",
      " [-1.5354723 ]\n",
      " [-1.25860491]]\n",
      "Iteration 20\n",
      "[[ 0.20022068]\n",
      " [-1.8964888 ]\n",
      " [-1.42576883]]\n",
      "Iteration 21\n",
      "[[ 0.17591726]\n",
      " [-2.38600116]\n",
      " [-1.64599222]]\n",
      "Iteration 22\n",
      "[[ 0.1308198 ]\n",
      " [-3.06413571]\n",
      " [-1.95264296]]\n",
      "Iteration 23\n",
      "[[ 0.04332692]\n",
      " [-4.00136652]\n",
      " [-2.4045367 ]]\n",
      "Iteration 24\n",
      "[[-0.14134915]\n",
      " [-5.1366267 ]\n",
      " [-3.08107253]]\n",
      "Iteration 25\n",
      "[[-0.53243209]\n",
      " [-5.48147447]\n",
      " [-3.87482884]]\n",
      "Iteration 26\n",
      "[[-1.06925784]\n",
      " [-3.13851659]\n",
      " [-4.06680442]]\n",
      "Iteration 27\n",
      "[[-1.36002587]\n",
      " [-1.06621968]\n",
      " [-3.90263858]]\n",
      "Iteration 28\n",
      "[[-1.40263751]\n",
      " [-0.35492328]\n",
      " [-3.7974499 ]]\n",
      "Iteration 29\n",
      "[[-1.35815778]\n",
      " [-0.13844135]\n",
      " [-3.72972865]]\n",
      "Iteration 30\n",
      "[[-1.29048953]\n",
      " [-0.06988889]\n",
      " [-3.6777565 ]]\n",
      "Iteration 31\n",
      "[[-1.21872852]\n",
      " [-0.04731194]\n",
      " [-3.63478836]]\n",
      "Iteration 32\n",
      "[[-1.14846258]\n",
      " [-0.0403431 ]\n",
      " [-3.59868624]]\n",
      "Iteration 33\n",
      "[[-1.08130623]\n",
      " [-0.03925864]\n",
      " [-3.56855639]]\n",
      "Iteration 34\n",
      "[[-1.01764661]\n",
      " [-0.04068973]\n",
      " [-3.54387039]]\n",
      "Iteration 35\n",
      "[[-0.95747514]\n",
      " [-0.04338843]\n",
      " [-3.52423452]]\n",
      "Iteration 36\n",
      "[[-0.90065756]\n",
      " [-0.04687488]\n",
      " [-3.50932516]]\n",
      "Iteration 37\n",
      "[[-0.84702722]\n",
      " [-0.0509713 ]\n",
      " [-3.49886819]]\n",
      "Iteration 38\n",
      "[[-0.79641881]\n",
      " [-0.05563023]\n",
      " [-3.49263103]]\n",
      "Iteration 39\n",
      "[[-0.74868064]\n",
      " [-0.06086762]\n",
      " [-3.49041862]]\n",
      "Iteration 40\n",
      "[[-0.70367895]\n",
      " [-0.06673595]\n",
      " [-3.49207109]]\n",
      "Iteration 41\n",
      "[[-0.66129929]\n",
      " [-0.07331366]\n",
      " [-3.49746246]]\n",
      "Iteration 42\n",
      "[[-0.62144673]\n",
      " [-0.08070173]\n",
      " [-3.50650012]]\n",
      "Iteration 43\n",
      "[[-0.58404607]\n",
      " [-0.08902362]\n",
      " [-3.51912506]]\n",
      "Iteration 44\n",
      "[[-0.54904206]\n",
      " [-0.09842698]\n",
      " [-3.53531295]]\n",
      "Iteration 45\n",
      "[[-0.51640008]\n",
      " [-0.10908617]\n",
      " [-3.55507591]]\n",
      "Iteration 46\n",
      "[[-0.48610727]\n",
      " [-0.12120498]\n",
      " [-3.57846503]]\n",
      "Iteration 47\n",
      "[[-0.45817416]\n",
      " [-0.13501893]\n",
      " [-3.60557348]]\n",
      "Iteration 48\n",
      "[[-0.43263691]\n",
      " [-0.15079617]\n",
      " [-3.63654002]]\n",
      "Iteration 49\n",
      "[[-0.40956001]\n",
      " [-0.16883534]\n",
      " [-3.67155228]]\n"
     ]
    }
   ],
   "source": [
    "nton(0,0,0, rhs, JI)"
   ]
  },
  {
   "cell_type": "code",
   "execution_count": null,
   "metadata": {
    "collapsed": true
   },
   "outputs": [],
   "source": []
  }
 ],
 "metadata": {
  "kernelspec": {
   "display_name": "Python 3",
   "language": "python",
   "name": "python3"
  },
  "language_info": {
   "codemirror_mode": {
    "name": "ipython",
    "version": 3
   },
   "file_extension": ".py",
   "mimetype": "text/x-python",
   "name": "python",
   "nbconvert_exporter": "python",
   "pygments_lexer": "ipython3",
   "version": "3.7.3"
  }
 },
 "nbformat": 4,
 "nbformat_minor": 2
}
