{
 "cells": [
  {
   "cell_type": "markdown",
   "metadata": {},
   "source": [
    "## Mass-Spring Systems\n",
    "In order to model an object using a mass-spring system, the object is discretized to mass particles $p_i(i=1,...,n)$, then a network of massless springs connecting the particles together is installed. \n",
    "Mass-spring systems vary according to the discretization mesh, the way the springs are set between the particles, and the functions used to model the springs."
   ]
  },
  {
   "cell_type": "markdown",
   "metadata": {},
   "source": [
    "At any given time t, the state of the system is defined by the position $x_i$ and the velocity $v_i$ of the particles. The force $f_i$ acting on particle $p_i$ is computed according to its spring connections with its neighbors and external forces such as gravity of friction forces. Newton's second law of motion is used to calculate the motion of each particle:\n",
    "$$ m_i \\frac{d \\mathbf{x}_i}{dt} = \\mathbf{f}_i$$"
   ]
  },
  {
   "cell_type": "markdown",
   "metadata": {},
   "source": [
    "For the whole system Newton's second law can be formulated in matrix form:\n",
    "$$ \\mathbf{M} \\frac{d \\mathbf{x}}{dt} = \\mathbf{f}(\\mathbf{x}, \\mathbf{v}) $$\n",
    "where $\\mathbf{M}$ is a $3n \\times 3n$ diagonal mass matrix. By solving this system of coupled ordinary differential equations, the position of the particles can be updated as the model deforms."
   ]
  },
  {
   "cell_type": "markdown",
   "metadata": {},
   "source": [
    "## Problems Associated with Mass-Spring Systems\n",
    "\n",
    "Ordinary Mass-Spring systems suffer from several intrinsic limitations that restrict their use in physical modeling:\n",
    "* Not necessarily accurate, not convergent\n",
    "* Behavior depends on the topology and resolution of the mesh\n",
    "* Finding the right spring functions and parameters to obtain an accurate model is a very difficult and pplication dependent process.\n",
    "* Settings the masses correctly to model homogeneous materials is a somewhat troublesome process\n",
    "* Using ordinary mass-spring systems neither isotropic nor anisotropic materials can be generatied and controlled easily"
   ]
  },
  {
   "cell_type": "markdown",
   "metadata": {
    "collapsed": true
   },
   "source": [
    "## Hexahedral Meshes"
   ]
  },
  {
   "cell_type": "markdown",
   "metadata": {},
   "source": [
    "The mass of the modeled object is discretized according to the mesh into particles that define the vertices of the volume elements of the modeled object. \n",
    "In order to setup a homogeneous material, the mass of each particles is computed according to the volume of the Voronoi region around it. In the general case it can be calculated by\n",
    "$$ m_i = \\sum^n_{k=1} \\frac{\\rho_k V_k}{N_k}$$\n",
    "where $m_i$ is the mass of the particle $p_i, n$ is the number of volume elements neighboring the particle. $V_k$, $\\rho_k$ and $N_k$ are respectively the volume, the mass density, and the number of vertices of the volume element $VV_k$. For a hexahedral mesh $m_i$ is given by $$ m_i = \\frac{V_v}{8} \\sum_{k=1}^n \\rho_k $$\n",
    "where $n$ si the number of hexahedra neighboring $p_i$ and $\\rho_k$ is the mass density of the hexahedron $H_k$. $V_v$ is the volume of a hexahedron of the hexahedral mesh."
   ]
  },
  {
   "cell_type": "markdown",
   "metadata": {},
   "source": [
    "## Anisotropy\n",
    "To control anisotropy several axes of mechanical anisotropy in the barycenter of each volume element of the mesh are generated. Forces generated due to the deformation of the model will act only i nthe direction of these axes. For examples, to model the mechanical deformation of a muscle, the direction of anisotropy axes mush be set in the direction of the fibers of the muscle in each of the volume elements of the model's mesh. Although the method allows the definition of several axes of anisotropy, only three were defined in each of volume elements. This was enough to model the anisotropic mechanical behavior of all types of materials modeled with the developed framework."
   ]
  },
  {
   "cell_type": "markdown",
   "metadata": {},
   "source": [
    "In a volume element, each axis interscts with the faces of that element in two points, called intersection points. During deformation, the axes evolve with the volume elements to which they belong. At any given moment t, the orientation of an axis  $\\zeta_1$ in a volume element $\\mathcal{V}_k$ can be determined using the line extended between the pair of intersection points the axis defines. This can be done numerically by calculating the vector between the pair $(q_{2l}, q_{2l+1})$ regardless of its direction. The vector is given by $$ \\zeta_l^t = \\mathbf{x}^t_{2l} - \\mathbf{x}^t_{2l+1}$$\n",
    "For this reason, intersection points are used to track the axes of anisotropies during the deformation of the model"
   ]
  },
  {
   "cell_type": "markdown",
   "metadata": {
    "collapsed": true
   },
   "source": [
    "To compute the coordinates of the intersection points at any moment $t$, and hence the orientation of the anisotropy axes, the coordinates $\\mathbf{x}_j^t$ of each intersection point $q_j$ are given by a linear interpolation of the coordinates of the face vertices to which it belongs, using the rectangle linear interpolation shape function.\n",
    "$$ \\mathbf{x}_j^t = \\sum_{i=1}^4 N_i \\left (  \\xi_j, \\eta_j \\right ) \\mathbf{x}_i^t$$\n",
    "where $\\mathbf{x}_i^t$ are the coordinates of the vertices of the rectangular face $\\mathcal{F}_j$ to which $q_j$ belongs and $N_i \\left (  \\xi_j, \\eta_j \\right )$ are the rectangle linear interpolation shape functions and are given by:\n",
    "$$\n",
    "\\begin{align*}\n",
    " N_1 \\left (  \\xi_j, \\eta_j \\right ) &= \\left (1 - \\xi_j \\right)\\left(1 - \\eta_j \\right) \\\\\n",
    " N_2 \\left (  \\xi_j, \\eta_j \\right ) &= \\xi_j \\left(1 - \\eta_j \\right) \\\\\n",
    " N_3 \\left (  \\xi_j, \\eta_j \\right ) &= \\xi_j \\eta_j \\\\\n",
    " N_4 \\left (  \\xi_j, \\eta_j \\right ) &= \\left (1 - \\xi_j \\right)\\eta_j\n",
    "\\end{align*} \n",
    "$$"
   ]
  },
  {
   "cell_type": "markdown",
   "metadata": {},
   "source": [
    "![alt text](./hexa.png \"Title\")"
   ]
  },
  {
   "cell_type": "markdown",
   "metadata": {},
   "source": [
    "### Computing the intersection points\n",
    "The intersection points and the corresponding shape functions are also computed in the initialization state using the following scheme:\n",
    "1. For each hexahedron $\\mathcal{H}_k$ of the mesh repeat:\n",
    "2. For each of the three axes $\\zeta_i$ of $\\mathcal{H}_k$, repeat:\n",
    "3. For each face $\\mathcal{F}_j$ of $\\mathcal{H}_k$, repeat the following steps to locate intersection points axis $\\zeta_i$ defines:\n",
    "4. Compute the point where the line extending from the center $p_{bk}$ of $\\mathcal{H}_k$ and which is parallel to $\\zeta_i$ intersects with the plane containing $\\mathcal{F}_j$\n",
    "5. If the computed point was outside of $\\mathcal{F}_j$, it is not a valid intersection point, to to step 3\n",
    "6. If the point is in $\\mathcal{F}_j$, it is a valid intersection point, compute the related shape function values\n",
    "7. If two valid intersection points were found fror $\\zeta_i$, go to step 2"
   ]
  },
  {
   "cell_type": "markdown",
   "metadata": {},
   "source": [
    "![alt text](./hexa2.png \"Title\")"
   ]
  },
  {
   "cell_type": "markdown",
   "metadata": {},
   "source": [
    "### Coefficient Matrix $C$"
   ]
  },
  {
   "cell_type": "markdown",
   "metadata": {},
   "source": [
    "The shape functions of each of the intersection points of a hexahedron $\\mathcal{H}_k$ can be arranged in a matrix $C_k$, we call the coefficient matrix, according to \n",
    "$$\n",
    "C_{ij} = \\begin{cases}\n",
    "         N_{ij} \\text{ for $q_j$ and if vertex $p_i$ is in face $\\mathcal{F}_j$} \\\\\n",
    "         0\n",
    "         \\end{cases}\n",
    "$$\n",
    "The coefficient matrix $C_k$ is an $8 \\times 6$ matrix. With the help of $C_k$ it is possible to calculate the coordinates of an intersection point $q^t_j$ at time $t$ by:\n",
    "$$\n",
    "\\mathbf{x}^t_j = \\sum^8_{i=1} C_{ij}\\mathbf{x}_i^t\n",
    "$$"
   ]
  },
  {
   "cell_type": "code",
   "execution_count": null,
   "metadata": {
    "collapsed": true
   },
   "outputs": [],
   "source": []
  }
 ],
 "metadata": {
  "kernelspec": {
   "display_name": "Python 3",
   "language": "python",
   "name": "python3"
  },
  "language_info": {
   "codemirror_mode": {
    "name": "ipython",
    "version": 3
   },
   "file_extension": ".py",
   "mimetype": "text/x-python",
   "name": "python",
   "nbconvert_exporter": "python",
   "pygments_lexer": "ipython3",
   "version": "3.6.1"
  }
 },
 "nbformat": 4,
 "nbformat_minor": 2
}
