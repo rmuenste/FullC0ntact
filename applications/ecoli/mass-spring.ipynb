{
 "cells": [
  {
   "cell_type": "markdown",
   "metadata": {},
   "source": [
    "## Mass-Spring Systems\n",
    "In order to model an object using a mass-spring system, the object is discretized to mass particles $p_i(i=1,...,n)$, then a network of massless springs connecting the particles together is installed. \n",
    "Mass-spring systems vary according to the discretization mesh, the way the springs are set between the particles, and the functions used to model the springs."
   ]
  },
  {
   "cell_type": "markdown",
   "metadata": {},
   "source": [
    "At any given time t, the state of the system is defined by the position $x_i$ and the velocity $v_i$ of the particles. The force $f_i$ acting on particle $p_i$ is computed according to its spring connections with its neighbors and external forces such as gravity of friction forces. Newton's second law of motion is used to calculate the motion of each particle:\n",
    "$$ m_i \\frac{d \\mathbf{x}_i}{dt} = \\mathbf{f}_i$$"
   ]
  },
  {
   "cell_type": "markdown",
   "metadata": {},
   "source": [
    "For the whole system Newton's second law can be formulated in matrix form:\n",
    "$$ \\mathbf{M} \\frac{d \\mathbf{x}}{dt} = \\mathbf{f}(\\mathbf{x}, \\mathbf{v}) $$\n",
    "where $\\mathbf{M}$ is a $3n \\times 3n$ diagonal mass matrix. By solving this system of coupled ordinary differential equations, the position of the particles can be updated as the model deforms."
   ]
  },
  {
   "cell_type": "markdown",
   "metadata": {},
   "source": [
    "## Problems Associated with Mass-Spring Systems\n",
    "\n",
    "Ordinary Mass-Spring systems suffer from several intrinsic limitations that restrict their use in physical modeling:\n",
    "* Not necessarily accurate, not convergent\n",
    "* Behavior depends on the topology and resolution of the mesh\n",
    "* Finding the right spring functions and parameters to obtain an accurate model is a very difficult and pplication dependent process.\n",
    "* Settings the masses correctly to model homogeneous materials is a somewhat troublesome process\n",
    "* Using ordinary mass-spring systems neither isotropic nor anisotropic materials can be generatied and controlled easily"
   ]
  },
  {
   "cell_type": "code",
   "execution_count": null,
   "metadata": {
    "collapsed": true
   },
   "outputs": [],
   "source": []
  }
 ],
 "metadata": {
  "kernelspec": {
   "display_name": "Python 3",
   "language": "python",
   "name": "python3"
  },
  "language_info": {
   "codemirror_mode": {
    "name": "ipython",
    "version": 3
   },
   "file_extension": ".py",
   "mimetype": "text/x-python",
   "name": "python",
   "nbconvert_exporter": "python",
   "pygments_lexer": "ipython3",
   "version": "3.6.1"
  }
 },
 "nbformat": 4,
 "nbformat_minor": 2
}
