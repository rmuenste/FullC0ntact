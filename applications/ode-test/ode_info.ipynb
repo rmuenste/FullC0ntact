{
 "cells": [
  {
   "cell_type": "code",
   "execution_count": 1,
   "metadata": {
    "collapsed": true
   },
   "outputs": [],
   "source": [
    "import numpy as np"
   ]
  },
  {
   "cell_type": "markdown",
   "metadata": {},
   "source": [
    "$$y=mx+b$$"
   ]
  },
  {
   "cell_type": "markdown",
   "metadata": {},
   "source": [
    "# ODE Governing Equation"
   ]
  },
  {
   "cell_type": "markdown",
   "metadata": {},
   "source": [
    "$$ \\left[\\mathbf{JMJ}^T \\right] \\lambda = \\frac{\\mathbf c}{\\Delta t} - \\mathbf J \\left[\\frac{\\mathbf v^{(n)}}{\\Delta t} + \\mathbf M^{-1}(\\mathbf F_{ext})\\right]\\\\\n",
    "\\mathbf{A}=\\left[\\mathbf{JMJ}^T \\right], \\\\\n",
    "\\mathbf{b} = \\frac{\\mathbf c}{\\Delta t} - \\mathbf J \\left[\\frac{\\mathbf v^{(n)}}{\\Delta t} + \\mathbf M^{-1}(\\mathbf F_{ext})\\right]\\\\\n",
    "\\mathbf{A} \\mathbf{\\lambda} = \\mathbf{b} \n",
    "$$\n",
    "Where the i-th row of $\\mathbf{J}_i$ can be derived from the equation:\n",
    "$$\n",
    "\\mathbf{0} = \\mathbf{n}^T_i \\mathbf{v}_{i1} - \\mathbf{n}^T_{i} \\mathbf{a}_{i1} \\boldsymbol{\\omega}_{i1} - \\mathbf{n}^T_{i} \\mathbf{v}_{i2} + \\mathbf{n}^T_{i} \\mathbf{a}_{i2} \\boldsymbol{\\omega}_{i2} \\\\\n",
    "\\\\ \\mathbf{J}_i = J_{1i}\\; \\Omega_{1i}\\; J_{2i}\\; \\Omega_{2i} \\\\\n",
    "J_{1i} = \\mathbf{n}^T_i\\\\\n",
    "\\Omega_{1i} = -\\mathbf{n}^T_{i} \\mathbf{a}_{i1}\\\\\n",
    "J_{2i} = \\mathbf{n}^T_i\\\\\n",
    "\\Omega_{2i} = \\mathbf{n}^T_{i} \\mathbf{a}_{i2}\n",
    "$$\n",
    "\n",
    "$\\mathbf c = \\mathbf{Jv}$ "
   ]
  },
  {
   "cell_type": "markdown",
   "metadata": {},
   "source": [
    "The matrix $\\mathbf{A}$ has 3 rows for every contact point. One row is for the contact force (normal $\\mathbf{n}$) and a row for each of the two friction directions (tangent $\\mathbf{u}_v$, tangent $\\mathbf{u}_w$)"
   ]
  },
  {
   "cell_type": "markdown",
   "metadata": {},
   "source": [
    "## Solve Gauss-Seidel in Delta-Form"
   ]
  },
  {
   "cell_type": "markdown",
   "metadata": {},
   "source": [
    "$$\n",
    "\\delta_i = \\frac{b_i}{A_{ii}} - \\sum^{N_c}_{j=1} \\frac{A_{ij}}{A_{ii}} \\lambda_j, \\; \\text{where} \\; \\lambda_i^{n+1} = \\delta^n_{i} + \\lambda^{n}_{i} \\; \\text{for} \\; i=1,...,N_c\n",
    "$$\n",
    "### Standard Jacobi\n",
    "$$\n",
    "x_i = \\frac{1}{a_{ii}} \\left (  b_i - \\sum_{} a_{ij} x_j^{(m)} \\right ) \\; \\text{for} \\; i=1,...,N_c \\\\\n",
    "x_i = \\frac{b_i}{a_{ii}} - \\sum \\frac{a_{ij}}{a_{ii}} x_j^{(m)} \\; \\text{for} \\; i=1,...,N_c\n",
    "$$"
   ]
  },
  {
   "cell_type": "markdown",
   "metadata": {},
   "source": [
    "### SOR-Step\n",
    "$$\n",
    "\\hat{\\lambda}^{n+1} = \\left ( 1 - \\omega \\right ) \\lambda^n + \\omega \\lambda^{n+1} \\; \\text{or} \\; \\hat{\\lambda}^{n+1} = \\lambda^n + \\omega \\delta^{n}\n",
    "$$"
   ]
  },
  {
   "cell_type": "markdown",
   "metadata": {},
   "source": [
    "### Implementation notes"
   ]
  },
  {
   "cell_type": "markdown",
   "metadata": {},
   "source": [
    "$$\n",
    "\\mathbf{a}_c = \\mathbf{M}^{-1} \\mathbf{f}_c = \\mathbf{M}^{-1} \\mathbf{J}^T \\lambda\n",
    "$$\n"
   ]
  },
  {
   "cell_type": "markdown",
   "metadata": {},
   "source": [
    "$$\n",
    "\\lambda_i = \\omega \\left (  \\frac{b_i}{A_{ii}} - \\frac{\\sum J_{ik} a_{c_k} }{A_{ii}} \\right ) \\; \\text{for} \\;  i = 1,...,N_c\n",
    "$$"
   ]
  },
  {
   "cell_type": "markdown",
   "metadata": {},
   "source": [
    "$$\n",
    "a^{n+1}_{c_k} = a^{n}_{c_k} + G_{ki} \\delta_{i}^{n} \\; \\text{for} \\; i=1,...,N_c\n",
    "$$"
   ]
  },
  {
   "cell_type": "markdown",
   "metadata": {},
   "source": [
    "## The QuickStep algorithm\n"
   ]
  },
  {
   "cell_type": "code",
   "execution_count": null,
   "metadata": {
    "collapsed": true
   },
   "outputs": [],
   "source": [
    "def dxQuickStepIsland_Stage2a:\n",
    "    print('dummy')\n",
    "def dxQuickStepIsland_Stage2b:\n",
    "    print('dummy')\n",
    "def dxQuickStepIsland_Stage2c:\n",
    "    print('dummy')\n",
    "def dxQuickStepIsland_Stage3:\n",
    "    print('dummy')    "
   ]
  },
  {
   "cell_type": "markdown",
   "metadata": {},
   "source": [
    "In $\\mathit dxQuickStepIsland\\_Stage2a$ the matrix $\\mathbf{J}_i$ is computed for every contact point and $\\mathbf c$ is initialized with the velocity $\\mathbf v$"
   ]
  },
  {
   "cell_type": "markdown",
   "metadata": {},
   "source": [
    "In $\\mathit dxQuickStepIsland\\_Stage2b$ the $\\left[ \\frac{\\mathbf v^{(n)}}{\\Delta t} + \\mathbf M^{-1}(\\mathbf F_{ext})\\right]$ part of the RHS $\\mathbf{b}$ is calculated."
   ]
  },
  {
   "cell_type": "markdown",
   "metadata": {},
   "source": [
    "In $\\mathit dxQuickStepIsland\\_Stage2c$ the RHS is multiplied by $\\mathbf{J}$ to finish the calculation of $\\mathbf{b}$."
   ]
  },
  {
   "cell_type": "markdown",
   "metadata": {},
   "source": [
    "In $\\mathit dxQuickStepIsland\\_Stage3$ the matrix $\\mathbf{A}=\\left[\\mathbf{JMJ}^T \\right]$ is finalized and the system is solved by a projected SOR-solver. The time integration by explict euler is also done in Stage3"
   ]
  },
  {
   "cell_type": "markdown",
   "metadata": {
    "collapsed": true
   },
   "source": [
    "     Real oldNormalImpulse = contact.m_dAccumulatedNormalImpulse;\n",
    "\n",
    "      //clamp the accumulated impulse to 0\n",
    "      contact.m_dAccumulatedNormalImpulse = std::max(Real(oldNormalImpulse + normalImpulse), Real(0.0));\n",
    "      def(k) = contact.m_dAccumulatedNormalImpulse;\n",
    "\n",
    "      //set the impulse magnitude to the difference between\n",
    "      //the accumulated impulse and the old impulse\n",
    "      normalImpulse = contact.m_dAccumulatedNormalImpulse - oldNormalImpulse;\n",
    "\n",
    "      VECTOR3 impulse = contact.m_vNormal * normalImpulse;\n",
    "\n",
    "      VECTOR3 impulse0 = contact.m_vNormal * (normalImpulse * contact.m_pBody0->invMass_);\n",
    "      VECTOR3 impulse1 = -contact.m_vNormal * (normalImpulse * contact.m_pBody1->invMass_);"
   ]
  },
  {
   "cell_type": "code",
   "execution_count": null,
   "metadata": {
    "collapsed": true
   },
   "outputs": [],
   "source": [
    "745.72403306821025"
   ]
  }
 ],
 "metadata": {
  "kernelspec": {
   "display_name": "Python 3",
   "language": "python",
   "name": "python3"
  },
  "language_info": {
   "codemirror_mode": {
    "name": "ipython",
    "version": 3
   },
   "file_extension": ".py",
   "mimetype": "text/x-python",
   "name": "python",
   "nbconvert_exporter": "python",
   "pygments_lexer": "ipython3",
   "version": "3.5.2"
  }
 },
 "nbformat": 4,
 "nbformat_minor": 2
}
