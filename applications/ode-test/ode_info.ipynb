{
 "cells": [
  {
   "cell_type": "code",
   "execution_count": 1,
   "metadata": {
    "collapsed": true
   },
   "outputs": [],
   "source": [
    "import numpy as np"
   ]
  },
  {
   "cell_type": "markdown",
   "metadata": {},
   "source": [
    "$$y=mx+b$$"
   ]
  },
  {
   "cell_type": "markdown",
   "metadata": {},
   "source": [
    "# ODE Governing Equation"
   ]
  },
  {
   "cell_type": "markdown",
   "metadata": {},
   "source": [
    "$$ \\left[\\mathbf{JMJ}^T \\right] \\lambda = \\frac{\\mathbf c}{\\Delta t} - \\mathbf J \\left[\\frac{\\mathbf v^{(n)}}{\\Delta t} + \\mathbf M^{-1}(\\mathbf F_{ext})\\right]\\\\\n",
    "\\mathbf{A}=\\left[\\mathbf{JMJ}^T \\right],\n",
    "\\mathbf{b} = \\frac{\\mathbf c}{\\Delta t} - \\mathbf J \\left[\\frac{\\mathbf v^{(n)}}{\\Delta t} + \\mathbf M^{-1}(\\mathbf F_{ext})\\right]\\\\\n",
    "\\mathbf{A} \\mathbf{\\lambda} = \\mathbf{b} \n",
    "$$\n",
    "Where the i-th row of $\\mathbf{J}_i$ can be derived from the equation:\n",
    "$$\n",
    "\\mathbf{0} = \\mathbf{n}^T_i \\mathbf{v}_{i1} - \\mathbf{n}^T_{i} \\mathbf{a}_{i1} \\boldsymbol{\\omega}_{i1} - \\mathbf{n}^T_{i} \\mathbf{v}_{i2} + \\mathbf{n}^T_{i} \\mathbf{a}_{i2} \\boldsymbol{\\omega}_{i2} \\\\\n",
    "\\\\ \\mathbf{J}_i = J_{1i}\\; \\Omega_{1i}\\; J_{2i}\\; \\Omega_{2i} \\\\\n",
    "J_{1i} = \\mathbf{n}^T_i\\\\\n",
    "\\Omega_{1i} = -\\mathbf{n}^T_{i} \\mathbf{a}_{i1}\\\\\n",
    "J_{2i} = \\mathbf{n}^T_i\\\\\n",
    "\\Omega_{2i} = \\mathbf{n}^T_{i} \\mathbf{a}_{i2}\n",
    "$$\n",
    "\n",
    "$\\mathbf c = \\mathbf{Jv}$ "
   ]
  },
  {
   "cell_type": "markdown",
   "metadata": {},
   "source": [
    "The matrix $\\mathbf{A}$ has 3 rows for every contact point. One row is for the contact force (normal $\\mathbf{n}$) and a row for each of the two friction directions (tangent $\\mathbf{u}_v$, tangent $\\mathbf{u}_w$)"
   ]
  },
  {
   "cell_type": "markdown",
   "metadata": {},
   "source": [
    "## The QuickStep algorithm\n"
   ]
  },
  {
   "cell_type": "code",
   "execution_count": null,
   "metadata": {
    "collapsed": true
   },
   "outputs": [],
   "source": [
    "def dxQuickStepIsland_Stage2a:\n",
    "    print('dummy')\n",
    "def dxQuickStepIsland_Stage2b:\n",
    "    print('dummy')\n",
    "def dxQuickStepIsland_Stage2c:\n",
    "    print('dummy')\n",
    "def dxQuickStepIsland_Stage3:\n",
    "    print('dummy')    "
   ]
  },
  {
   "cell_type": "markdown",
   "metadata": {},
   "source": [
    "In $\\mathit dxQuickStepIsland\\_Stage2a$ the matrix $\\mathbf{J}_i$ is computed for every contact point and $\\mathbf c$ is initialized with the velocity $\\mathbf v$"
   ]
  },
  {
   "cell_type": "markdown",
   "metadata": {},
   "source": [
    "In $\\mathit dxQuickStepIsland\\_Stage2b$ the $\\left[ \\frac{\\mathbf v^{(n)}}{\\Delta t} + \\mathbf M^{-1}(\\mathbf F_{ext})\\right]$ part of the RHS $\\mathbf{b}$ is calculated."
   ]
  },
  {
   "cell_type": "markdown",
   "metadata": {},
   "source": [
    "In $\\mathit dxQuickStepIsland\\_Stage2c$ the RHS is multiplied by $\\mathbf{J}$ to finish the calculation of $\\mathbf{b}$."
   ]
  },
  {
   "cell_type": "markdown",
   "metadata": {},
   "source": [
    "In $\\mathit dxQuickStepIsland\\_Stage3$ the matrix $\\mathbf{A}=\\left[\\mathbf{JMJ}^T \\right]$ is finalized and the system is solved by a projected SOR-solver. The time integration by explict euler is also done in Stage3"
   ]
  },
  {
   "cell_type": "code",
   "execution_count": null,
   "metadata": {
    "collapsed": true
   },
   "outputs": [],
   "source": []
  }
 ],
 "metadata": {
  "kernelspec": {
   "display_name": "Python 3",
   "language": "python",
   "name": "python3"
  },
  "language_info": {
   "codemirror_mode": {
    "name": "ipython",
    "version": 3
   },
   "file_extension": ".py",
   "mimetype": "text/x-python",
   "name": "python",
   "nbconvert_exporter": "python",
   "pygments_lexer": "ipython3",
   "version": "3.6.0"
  }
 },
 "nbformat": 4,
 "nbformat_minor": 2
}
